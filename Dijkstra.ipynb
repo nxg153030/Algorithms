{
 "cells": [
  {
   "cell_type": "markdown",
   "metadata": {},
   "source": [
    "# Dijkstra's algorithm\n",
    "### Dijkstra's algorithm finds the shortest path from a source vertex to every other vertex in a directed graph with positive edge weights."
   ]
  },
  {
   "cell_type": "code",
   "execution_count": 21,
   "metadata": {},
   "outputs": [],
   "source": [
    "import numpy as np"
   ]
  },
  {
   "cell_type": "code",
   "execution_count": 12,
   "metadata": {},
   "outputs": [],
   "source": [
    "class Node:\n",
    "    def __init__(self, node_id, distance, predecessor):\n",
    "        self.id = node_id\n",
    "        self.distance = distance # shortest path length estimate from the source vertex\n",
    "        self.path = []\n",
    "        self.predecessor = predecessor"
   ]
  },
  {
   "cell_type": "code",
   "execution_count": 22,
   "metadata": {},
   "outputs": [],
   "source": [
    "class Graph:\n",
    "    def __init__(self, num_vertices, adj_matrix, weight_matrix):\n",
    "        self.weight_matrix = weight_matrix\n",
    "        self.adj_matrix = adj_matrix\n",
    "        self.nodes = [] # list of node objects"
   ]
  },
  {
   "cell_type": "code",
   "execution_count": 27,
   "metadata": {},
   "outputs": [],
   "source": [
    "class Dijkstra:\n",
    "    def __init__(self, source, adj_matrix, weight_matrix, num_vertices):\n",
    "        self.unvisited_nodes = [i for i in range(num_vertices)] # queue containing node ids of unvisited nodes\n",
    "        self.graph = Graph(num_vertices, adj_matrix, weight_matrix)\n",
    "        self.shortest_path_determined = [] # list of visited vertices\n",
    "        self.num_vertices = num_vertices\n",
    "        \n",
    "    # test whether we can improve the shortest path from node u to node v\n",
    "    def relax(self, u, v):\n",
    "        if self.graph.nodes[v].distance > self.graph.nodes[u].distance + self.graph.weight_matrix[u][v]:\n",
    "            self.graph.nodes[v].distance = self.graph.nodes[u].distance + self.graph.weight_matrix[u][v]\n",
    "            self.graph.nodes[v].predecessor = u   \n",
    "\n",
    "    def initialize_single_source(self):\n",
    "        self.graph.nodes = [Node(i, np.inf, None) for i in range(0, self.num_vertices)] \n",
    "        self.graph.nodes[0].distance = 0 # assume vertex 0 is the source node\n",
    "        self.graph.nodes[0].path.append(0)\n",
    "        \n",
    "    # return the edge with minimum weight, among available edges adjacent to the current vertex\n",
    "    def extract_min(self, nodeid):\n",
    "        min_weight = np.inf\n",
    "        minid = -1\n",
    "        for i in self.unvisited_nodes:\n",
    "            if self.graph.adj_matrix[nodeid][i] == 1 and self.graph.weight_matrix[nodeid][i] < min_weight:\n",
    "                minid = i\n",
    "                min_weight = self.graph.weight_matrix[nodeid][i]\n",
    "        if minid in self.unvisited_nodes:\n",
    "            self.unvisited_nodes.remove(minid)\n",
    "        return minid\n",
    "    \n",
    "    # print the path to each vertex in the graph\n",
    "    def print_shortest_paths(self):\n",
    "        for i in range(self.num_vertices):\n",
    "            print(\"Distance to vertex \", i,\": \", self.graph.nodes[i].distance)\n",
    "        for i in range(1, self.num_vertices):\n",
    "            predecessor = self.graph.nodes[i].predecessor\n",
    "            nodeid = i\n",
    "            while predecessor != 0:\n",
    "                self.graph.nodes[i].path.insert(0, predecessor)\n",
    "                nodeid = predecessor\n",
    "                predecessor = self.graph.nodes[nodeid].predecessor       \n",
    "            self.graph.nodes[i].path.insert(0, 0)\n",
    "            \n",
    "        for i in range(self.num_vertices):\n",
    "            print(\"shortest path to vertex \", i, \": \", self.graph.nodes[i].path)\n",
    "    \n",
    "    def run(self):\n",
    "        iteration_ctr = 0\n",
    "        self.initialize_single_source() # initialize all nodes in the graph\n",
    "        self.shortest_path_determined.append(0) # first node is obviously the source node\n",
    "        self.unvisited_nodes.remove(0)\n",
    "        while self.unvisited_nodes:\n",
    "            if iteration_ctr == 0: # first iteration, start with vertex 0\n",
    "                u = 0\n",
    "            else:\n",
    "                u = self.extract_min(self.shortest_path_determined[-1])\n",
    "                # if the current vertex is not connected to any of the unvisited vertices.\n",
    "                if u == -1:\n",
    "                    u = self.unvisited_nodes.pop()\n",
    "                self.shortest_path_determined.append(u)\n",
    "            # check all vertices adjacent to u\n",
    "            for i in range(self.num_vertices):\n",
    "                if self.graph.adj_matrix[u][i] == 1:\n",
    "                    self.relax(u, i)\n",
    "            iteration_ctr += 1\n",
    "        self.print_shortest_paths()"
   ]
  },
  {
   "cell_type": "code",
   "execution_count": 28,
   "metadata": {},
   "outputs": [
    {
     "name": "stdout",
     "output_type": "stream",
     "text": [
      "Distance to vertex  0 :  0\n",
      "Distance to vertex  1 :  8\n",
      "Distance to vertex  2 :  9\n",
      "Distance to vertex  3 :  5\n",
      "Distance to vertex  4 :  7\n",
      "shortest path to vertex  0 :  [0]\n",
      "shortest path to vertex  1 :  [0, 3]\n",
      "shortest path to vertex  2 :  [0, 3, 1]\n",
      "shortest path to vertex  3 :  [0]\n",
      "shortest path to vertex  4 :  [0, 3]\n"
     ]
    }
   ],
   "source": [
    "weight_matrix = np.array([[0,10,0,5,0],\n",
    "                 [0,0,1,2,0],\n",
    "                 [0,0,0,0,4],\n",
    "                 [0,3,9,0,2],\n",
    "                 [7,0,6,0,0]])\n",
    "adj_matrix = np.array([[0,1,0,1,0],\n",
    "              [0,0,1,1,0],\n",
    "              [0,0,0,0,1],\n",
    "              [0,1,1,0,1],\n",
    "              [1,0,1,0,0]])\n",
    "dijk = Dijkstra(0, adj_matrix, weight_matrix, 5)\n",
    "dijk.run()"
   ]
  },
  {
   "cell_type": "code",
   "execution_count": null,
   "metadata": {},
   "outputs": [],
   "source": []
  }
 ],
 "metadata": {
  "kernelspec": {
   "display_name": "Python 3",
   "language": "python",
   "name": "python3"
  },
  "language_info": {
   "codemirror_mode": {
    "name": "ipython",
    "version": 3
   },
   "file_extension": ".py",
   "mimetype": "text/x-python",
   "name": "python",
   "nbconvert_exporter": "python",
   "pygments_lexer": "ipython3",
   "version": "3.6.5"
  }
 },
 "nbformat": 4,
 "nbformat_minor": 2
}
