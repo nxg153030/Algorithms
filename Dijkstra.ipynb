{
 "cells": [
  {
   "cell_type": "markdown",
   "metadata": {},
   "source": [
    "# Dijkstra's algorithm\n",
    "### We assume that all the weights are positive\n",
    "#### Gives the shortest path from one node to every other node"
   ]
  },
  {
   "cell_type": "code",
   "execution_count": 2,
   "metadata": {
    "collapsed": true
   },
   "outputs": [],
   "source": [
    "import numpy as np"
   ]
  },
  {
   "cell_type": "code",
   "execution_count": 1,
   "metadata": {
    "collapsed": true
   },
   "outputs": [],
   "source": [
    "class Node:\n",
    "    def __init__(self, node_id, weight):\n",
    "        self.id = node_id\n",
    "        self.weight = weight        "
   ]
  },
  {
   "cell_type": "code",
   "execution_count": null,
   "metadata": {
    "collapsed": true
   },
   "outputs": [],
   "source": [
    "# need to create a random graph with directed weighted edges\n",
    "class Graph:\n",
    "    def __init__(self, num_vertices):\n",
    "        self.adj_matrix = np.zeros(num_vertices, num_vertices) # assign random numbers later\n",
    "        \n",
    "    \n",
    "    \n",
    "    \n",
    "    \n",
    "    \n",
    "    def add_node(self,):\n",
    "    \n",
    "        \n",
    "    "
   ]
  },
  {
   "cell_type": "code",
   "execution_count": null,
   "metadata": {
    "collapsed": true
   },
   "outputs": [],
   "source": [
    "class Dijkstra:\n",
    "    def __init__(self, source, destination):\n",
    "        self.unvisited_nodes = [] # keep track of their ids\n",
    "        self.distance_list = [] # distances from source node to every other node\n",
    "    \n",
    "    def run():\n",
    "        while not self.unvisited_nodes:\n",
    "    \n",
    "    \n",
    "    def relax(self, source, destination, weight):\n",
    "        \n",
    "            "
   ]
  }
 ],
 "metadata": {
  "kernelspec": {
   "display_name": "Python 3",
   "language": "python",
   "name": "python3"
  },
  "language_info": {
   "codemirror_mode": {
    "name": "ipython",
    "version": 3
   },
   "file_extension": ".py",
   "mimetype": "text/x-python",
   "name": "python",
   "nbconvert_exporter": "python",
   "pygments_lexer": "ipython3",
   "version": "3.6.3"
  }
 },
 "nbformat": 4,
 "nbformat_minor": 2
}
